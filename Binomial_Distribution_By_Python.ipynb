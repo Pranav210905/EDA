{
  "nbformat": 4,
  "nbformat_minor": 0,
  "metadata": {
    "colab": {
      "provenance": [],
      "authorship_tag": "ABX9TyN33Lm7B1A35fu7p7ou19gq",
      "include_colab_link": true
    },
    "kernelspec": {
      "name": "python3",
      "display_name": "Python 3"
    },
    "language_info": {
      "name": "python"
    }
  },
  "cells": [
    {
      "cell_type": "markdown",
      "metadata": {
        "id": "view-in-github",
        "colab_type": "text"
      },
      "source": [
        "<a href=\"https://colab.research.google.com/github/Pranav210905/EDA/blob/main/Binomial_Distribution_By_Python.ipynb\" target=\"_parent\"><img src=\"https://colab.research.google.com/assets/colab-badge.svg\" alt=\"Open In Colab\"/></a>"
      ]
    },
    {
      "cell_type": "code",
      "execution_count": null,
      "metadata": {
        "id": "G-wJZqk1WBG2"
      },
      "outputs": [],
      "source": [
        "from scipy.stats import binom"
      ]
    },
    {
      "cell_type": "markdown",
      "source": [
        "*  Tossing a Coin\n",
        "*  Success = Getting a Head\n",
        "*  probability of success p = 1/2\n",
        "*  probability of faliure q = 1/2\n",
        "\n",
        "\n",
        "\n",
        "1.   probability of getting 2 success P(X=2)\n",
        "2.   probability of getting atleast 2 success P(X>=2)\n",
        "3.   probability of getting atmost 2 success P(X<=2)\n",
        "4.   probability of getting more than 2 success P(X>2)\n",
        "5.   probability of getting less than 2 P(X<2)\n",
        "\n",
        "\n",
        "\n",
        "\n",
        "\n",
        "\n",
        "\n",
        "\n"
      ],
      "metadata": {
        "id": "O-3YXLr8Wd-m"
      }
    },
    {
      "cell_type": "markdown",
      "source": [
        "binom.pmf(x,n,p) p(X=2)\n",
        "binom.cdf(x,n,p) p(x<2)\n",
        "\n",
        "x:number of success\n",
        "\n",
        "n:number of trails\n",
        "\n",
        "p:probability of success"
      ],
      "metadata": {
        "id": "Ms9nSuQC1FYM"
      }
    },
    {
      "cell_type": "code",
      "source": [
        "#1st question\n",
        "\n",
        "binom.pmf(2,4,0.5)\n"
      ],
      "metadata": {
        "id": "alDgBcqGYkz6",
        "colab": {
          "base_uri": "https://localhost:8080/"
        },
        "outputId": "a4256d6a-c3b7-4789-b888-4a8adf988a9d"
      },
      "execution_count": null,
      "outputs": [
        {
          "output_type": "execute_result",
          "data": {
            "text/plain": [
              "0.375"
            ]
          },
          "metadata": {},
          "execution_count": 2
        }
      ]
    },
    {
      "cell_type": "code",
      "source": [
        "#3 question\n",
        "binom.cdf(2,4,0.5)"
      ],
      "metadata": {
        "colab": {
          "base_uri": "https://localhost:8080/"
        },
        "id": "RSM2PwTu1_iW",
        "outputId": "e8654219-7e83-4403-b0c7-2f99a4da5590"
      },
      "execution_count": null,
      "outputs": [
        {
          "output_type": "execute_result",
          "data": {
            "text/plain": [
              "0.6875"
            ]
          },
          "metadata": {},
          "execution_count": 3
        }
      ]
    },
    {
      "cell_type": "code",
      "source": [
        "#4 question\n",
        "#probbaility of getting more than 2 success\n",
        "1-binom.cdf(2,4,0.5)"
      ],
      "metadata": {
        "colab": {
          "base_uri": "https://localhost:8080/"
        },
        "id": "PlQcfJV32l4m",
        "outputId": "cf639a86-b3f0-4841-b55a-d790c6c2a648"
      },
      "execution_count": null,
      "outputs": [
        {
          "output_type": "execute_result",
          "data": {
            "text/plain": [
              "0.3125"
            ]
          },
          "metadata": {},
          "execution_count": 4
        }
      ]
    },
    {
      "cell_type": "code",
      "source": [
        "#2 question\n",
        "#probability of getting atleat 2 succes\n",
        "1-binom.cdf(2,4,0.5)+binom.pmf(2,4,0.5)"
      ],
      "metadata": {
        "colab": {
          "base_uri": "https://localhost:8080/"
        },
        "id": "wAXaqjzh3KNp",
        "outputId": "34dee823-7a07-4ebb-a3f2-e682e413e04d"
      },
      "execution_count": null,
      "outputs": [
        {
          "output_type": "execute_result",
          "data": {
            "text/plain": [
              "0.6875"
            ]
          },
          "metadata": {},
          "execution_count": 6
        }
      ]
    },
    {
      "cell_type": "code",
      "source": [
        "#5 question\n",
        "#robability of getting less than 2 success\n",
        "binom.cdf(2,4,0.5)-binom.pmf(2,4,0.5)"
      ],
      "metadata": {
        "colab": {
          "base_uri": "https://localhost:8080/"
        },
        "id": "mq_ws1Mk3d2F",
        "outputId": "9d427c55-0978-4104-ddf5-62f7a993607b"
      },
      "execution_count": null,
      "outputs": [
        {
          "output_type": "execute_result",
          "data": {
            "text/plain": [
              "0.3125"
            ]
          },
          "metadata": {},
          "execution_count": 7
        }
      ]
    },
    {
      "cell_type": "markdown",
      "source": [
        "If an insurance company knows the probability of claming a given claim being fraduent (or not) binomial distrbution helps to find that claim is fraud or not in next 10000 claims\n",
        "\n",
        "claim being fraudent:**Success**\n",
        "\n",
        "probability of success: **0.1**\n"
      ],
      "metadata": {
        "id": "s3U7zV0Q5_eU"
      }
    },
    {
      "cell_type": "code",
      "source": [
        "n=10000\n",
        "p=0.01"
      ],
      "metadata": {
        "id": "C4qdC4Qa7GoY"
      },
      "execution_count": null,
      "outputs": []
    },
    {
      "cell_type": "code",
      "source": [
        "#probability of 50 claims to be fraduent\n",
        "\n",
        "binom.pmf(50,n,p)"
      ],
      "metadata": {
        "colab": {
          "base_uri": "https://localhost:8080/"
        },
        "id": "SJWzYl-A7JT6",
        "outputId": "1978072e-8909-4f4d-c25b-d3d62ea28f92"
      },
      "execution_count": null,
      "outputs": [
        {
          "output_type": "execute_result",
          "data": {
            "text/plain": [
              "1.0809915508168382e-08"
            ]
          },
          "metadata": {},
          "execution_count": 10
        }
      ]
    },
    {
      "cell_type": "code",
      "source": [
        "#probability of getting atmost 50 farudent\n",
        "binom.cdf(50,n,p)"
      ],
      "metadata": {
        "colab": {
          "base_uri": "https://localhost:8080/"
        },
        "id": "wkZxm66i77to",
        "outputId": "e67e3789-32d9-47cc-bae2-a23a22f32c3a"
      },
      "execution_count": null,
      "outputs": [
        {
          "output_type": "execute_result",
          "data": {
            "text/plain": [
              "2.112239932632362e-08"
            ]
          },
          "metadata": {},
          "execution_count": 14
        }
      ]
    },
    {
      "cell_type": "code",
      "source": [
        "#probability the more than 90 cases being fraudent\n",
        "\n",
        "1-binom.cdf(90,n,p)"
      ],
      "metadata": {
        "colab": {
          "base_uri": "https://localhost:8080/"
        },
        "id": "2SxC3CpH7WxL",
        "outputId": "2852cc4b-e20d-409a-f36e-f58f511dad49"
      },
      "execution_count": null,
      "outputs": [
        {
          "output_type": "execute_result",
          "data": {
            "text/plain": [
              "0.8298728251131836"
            ]
          },
          "metadata": {},
          "execution_count": 13
        }
      ]
    },
    {
      "cell_type": "code",
      "source": [
        "#probability that less than 100 cases fraudent\n",
        "1-binom.cdf(100,n,p)-binom.pmf(100,n,p)"
      ],
      "metadata": {
        "colab": {
          "base_uri": "https://localhost:8080/"
        },
        "id": "y3bwfGtm7pHA",
        "outputId": "a4a6396b-34a2-410f-bf4d-d0828d754dde"
      },
      "execution_count": null,
      "outputs": [
        {
          "output_type": "execute_result",
          "data": {
            "text/plain": [
              "0.43337566016692053"
            ]
          },
          "metadata": {},
          "execution_count": 16
        }
      ]
    },
    {
      "cell_type": "markdown",
      "source": [
        "how many advetisements for buying atleastb x products\n"
      ],
      "metadata": {
        "id": "i9L1sksiQTQR"
      }
    },
    {
      "cell_type": "code",
      "source": [
        "x=10000\n",
        "p=0.005\n",
        "l=[100000,2000000,5000000,10000000]\n",
        "for i in l:\n",
        "  print(1-binom.cdf(x,i,p))\n"
      ],
      "metadata": {
        "colab": {
          "base_uri": "https://localhost:8080/"
        },
        "id": "PrsGtCufQpGe",
        "outputId": "90501b33-4c81-49d4-ea24-f277c05c0cac"
      },
      "execution_count": null,
      "outputs": [
        {
          "output_type": "stream",
          "name": "stdout",
          "text": [
            "0.0\n",
            "0.49734041042800947\n",
            "1.0\n",
            "1.0\n"
          ]
        }
      ]
    },
    {
      "cell_type": "code",
      "source": [
        "for n in range(1000000,3000000,100000):\n",
        "  print(1-binom.cdf(x,n,p))\n"
      ],
      "metadata": {
        "colab": {
          "base_uri": "https://localhost:8080/"
        },
        "id": "GVBWbA-6RGgn",
        "outputId": "93f9f26c-8806-4c2a-8ccd-fce24de2e4e0"
      },
      "execution_count": null,
      "outputs": [
        {
          "output_type": "stream",
          "name": "stdout",
          "text": [
            "0.0\n",
            "0.0\n",
            "0.0\n",
            "0.0\n",
            "0.0\n",
            "0.0\n",
            "0.0\n",
            "0.0\n",
            "0.0\n",
            "1.6489481968751107e-07\n",
            "0.49734041042800947\n",
            "0.9999995772536351\n",
            "1.0\n",
            "1.0\n",
            "1.0\n",
            "1.0\n",
            "1.0\n",
            "1.0\n",
            "1.0\n",
            "1.0\n"
          ]
        }
      ]
    },
    {
      "cell_type": "code",
      "source": [],
      "metadata": {
        "id": "qf2Fb5fYR5pJ"
      },
      "execution_count": null,
      "outputs": []
    }
  ]
}