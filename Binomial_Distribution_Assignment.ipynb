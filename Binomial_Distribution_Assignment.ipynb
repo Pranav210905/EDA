{
  "cells": [
    {
      "cell_type": "markdown",
      "metadata": {
        "id": "view-in-github",
        "colab_type": "text"
      },
      "source": [
        "<a href=\"https://colab.research.google.com/github/Pranav210905/EDA/blob/main/Binomial_Distribution_Assignment.ipynb\" target=\"_parent\"><img src=\"https://colab.research.google.com/assets/colab-badge.svg\" alt=\"Open In Colab\"/></a>"
      ]
    },
    {
      "cell_type": "markdown",
      "source": [
        "# Binomial Distribution Assignment"
      ],
      "metadata": {
        "id": "baQfGsxxkula"
      },
      "id": "baQfGsxxkula"
    },
    {
      "cell_type": "code",
      "execution_count": 1,
      "id": "f14db520",
      "metadata": {
        "id": "f14db520"
      },
      "outputs": [],
      "source": [
        "# Run this code cell\n",
        "import numpy as np\n",
        "from scipy.stats import binom"
      ]
    },
    {
      "cell_type": "markdown",
      "id": "9a351f0a",
      "metadata": {
        "id": "9a351f0a"
      },
      "source": [
        "**1. Find the probability distribution (Probability of each outcome) for getting a five when rolling a dice four times.**"
      ]
    },
    {
      "cell_type": "code",
      "execution_count": 8,
      "id": "88852557",
      "metadata": {
        "id": "88852557",
        "colab": {
          "base_uri": "https://localhost:8080/"
        },
        "outputId": "c9639885-83ee-41c6-ee6a-3f1afd410605"
      },
      "outputs": [
        {
          "output_type": "stream",
          "name": "stdout",
          "text": [
            "0.87720192\n",
            "0.98558208\n",
            "0.99934464\n",
            "1.0\n",
            "1.0\n",
            "1.0\n"
          ]
        }
      ],
      "source": [
        "# write your code here\n",
        "n=4\n",
        "x=5\n",
        "p=0.16\n",
        "for i in range(1,7):\n",
        "  print(binom.cdf(i,n,p))\n"
      ]
    },
    {
      "cell_type": "markdown",
      "id": "f8b99a38",
      "metadata": {
        "id": "f8b99a38"
      },
      "source": [
        "---\n",
        "---\n",
        "**2. A fair coin is tossed 10 times. Find out the probability of:**\n",
        "1. Getting a head at most 6 times\n",
        "2. Getting a head at least 3 times"
      ]
    },
    {
      "cell_type": "code",
      "execution_count": 10,
      "id": "45fbeea0",
      "metadata": {
        "id": "45fbeea0",
        "colab": {
          "base_uri": "https://localhost:8080/"
        },
        "outputId": "78899c16-eddb-475f-c900-a5d89ad6558c"
      },
      "outputs": [
        {
          "output_type": "execute_result",
          "data": {
            "text/plain": [
              "0.828125"
            ]
          },
          "metadata": {},
          "execution_count": 10
        }
      ],
      "source": [
        "# write your code here\n",
        "\n",
        "#1.getting a head at most 6 times\n",
        "n=10\n",
        "p=0.5\n",
        "binom.cdf(6,n,p)"
      ]
    },
    {
      "cell_type": "code",
      "source": [
        "#2. getting a head atleast 10\n",
        "n=10\n",
        "p=0.5\n",
        "1-binom.cdf(10,n,p)+binom.pmf(10,n,p)"
      ],
      "metadata": {
        "colab": {
          "base_uri": "https://localhost:8080/"
        },
        "id": "bdIhZhheloLt",
        "outputId": "341ce31c-47ab-46d9-c0f3-67ee060ad8d7"
      },
      "id": "bdIhZhheloLt",
      "execution_count": 11,
      "outputs": [
        {
          "output_type": "execute_result",
          "data": {
            "text/plain": [
              "0.0009765625"
            ]
          },
          "metadata": {},
          "execution_count": 11
        }
      ]
    },
    {
      "cell_type": "markdown",
      "id": "264385d8",
      "metadata": {
        "id": "264385d8"
      },
      "source": [
        "---\n",
        "---\n",
        "**3. A surgeon claims that the success rate of surgeries performed by him is 65%. What is the probability that out of next 100 patients:**\n",
        "1. At least 60 patients will have a successful surgery\n",
        "2. Fewer than 75 patients will have a successful surgery\n",
        "3. There will be no more than 30 failed surgeries"
      ]
    },
    {
      "cell_type": "code",
      "source": [
        "p=0.65\n",
        "n=100\n",
        "\n",
        "#1.At least 60 patients will have a successful surgery\n",
        "1-binom.cdf(60,n,p)+binom.pmf(60,n,p)"
      ],
      "metadata": {
        "colab": {
          "base_uri": "https://localhost:8080/"
        },
        "id": "oZtPG1pYlnXR",
        "outputId": "d26e7f42-5556-480f-c276-0c2ac7ac6413"
      },
      "id": "oZtPG1pYlnXR",
      "execution_count": 12,
      "outputs": [
        {
          "output_type": "execute_result",
          "data": {
            "text/plain": [
              "0.8749772001289401"
            ]
          },
          "metadata": {},
          "execution_count": 12
        }
      ]
    },
    {
      "cell_type": "code",
      "source": [
        "#2.Fewer than 75 patients will have a successful surgery\n",
        "binom.cdf(75,n,p)-binom.pmf(75,n,p)"
      ],
      "metadata": {
        "id": "ow7q8mY7lPpJ",
        "colab": {
          "base_uri": "https://localhost:8080/"
        },
        "outputId": "25ba2520-cb14-49e4-f17d-2308bd430dc3"
      },
      "id": "ow7q8mY7lPpJ",
      "execution_count": 14,
      "outputs": [
        {
          "output_type": "execute_result",
          "data": {
            "text/plain": [
              "0.9788583763466618"
            ]
          },
          "metadata": {},
          "execution_count": 14
        }
      ]
    },
    {
      "cell_type": "code",
      "source": [
        "#3 There will be no more than 30 failed surgeries\n",
        "#100-30=70\n",
        "#P(X>=70) IS SAME ABOVEQUESTION\n",
        "\n",
        "1-binom.cdf(70,n,p)+binom.pmf(70,n,p)"
      ],
      "metadata": {
        "colab": {
          "base_uri": "https://localhost:8080/"
        },
        "id": "xRgRaMFYxqi7",
        "outputId": "68bf5b4f-9ffd-4d65-d074-075fde68385a"
      },
      "id": "xRgRaMFYxqi7",
      "execution_count": 15,
      "outputs": [
        {
          "output_type": "execute_result",
          "data": {
            "text/plain": [
              "0.17301948786509566"
            ]
          },
          "metadata": {},
          "execution_count": 15
        }
      ]
    },
    {
      "cell_type": "markdown",
      "id": "0e050b2f",
      "metadata": {
        "id": "0e050b2f"
      },
      "source": [
        "---\n",
        "---\n",
        "**4. An OTT platform oferrs a free paln and a premiun plan. The conversion rate from free to premium plan is 15%. Find out the probability that out of 1000 free plan members:**\n",
        "1. At most 200 will sign up for premium plan\n",
        "2. At least 300 will sign up for premium plan\n",
        "3. Between 150 to 250 will sign up for premium plan"
      ]
    },
    {
      "cell_type": "code",
      "source": [
        "p=0.15\n",
        "n=1000\n",
        "# 1.At most 200 will sign up for premium plan\n",
        "binom.cdf(200,n,p)-binom.pmf(200,n,p)\n"
      ],
      "metadata": {
        "id": "zT7cHKaDlVWl",
        "colab": {
          "base_uri": "https://localhost:8080/"
        },
        "outputId": "764befd5-5223-4bf8-9157-f84d60890c3a"
      },
      "id": "zT7cHKaDlVWl",
      "execution_count": 17,
      "outputs": [
        {
          "output_type": "execute_result",
          "data": {
            "text/plain": [
              "0.9999877796987099"
            ]
          },
          "metadata": {},
          "execution_count": 17
        }
      ]
    },
    {
      "cell_type": "code",
      "source": [
        "#2.At least 300 will sign up for premium plan\n",
        "1-binom.cdf(300,n,p)+binom.pmf(300,n,p)"
      ],
      "metadata": {
        "colab": {
          "base_uri": "https://localhost:8080/"
        },
        "id": "d3_cFwVFzZ1S",
        "outputId": "371bfdc4-a542-427d-d20f-cd99b3be3d67"
      },
      "id": "d3_cFwVFzZ1S",
      "execution_count": 16,
      "outputs": [
        {
          "output_type": "execute_result",
          "data": {
            "text/plain": [
              "0.0"
            ]
          },
          "metadata": {},
          "execution_count": 16
        }
      ]
    },
    {
      "cell_type": "code",
      "source": [
        "#3.Between 150 to 250 will sign up for premium plan\n",
        "for i in range(150,250):\n",
        "  print(\"Probability of count \"+str(i)+\" value \"+str(binom.pmf(i,n,p)))"
      ],
      "metadata": {
        "colab": {
          "base_uri": "https://localhost:8080/"
        },
        "id": "bwfzkkMFzrDr",
        "outputId": "27ea5558-c752-4307-ead3-8cf02f2b7a25"
      },
      "id": "bwfzkkMFzrDr",
      "execution_count": 23,
      "outputs": [
        {
          "output_type": "stream",
          "name": "stdout",
          "text": [
            "Probability of count 150 value 0.035310780109792626\n",
            "Probability of count 151 value 0.03507693388389945\n",
            "Probability of count 152 value 0.03457467128571577\n",
            "Probability of count 153 value 0.03381697952743679\n",
            "Probability of count 154 value 0.032822362482512704\n",
            "Probability of count 155 value 0.0316141009414103\n",
            "Probability of count 156 value 0.030219361193995587\n",
            "Probability of count 157 value 0.028668198779765282\n",
            "Probability of count 158 value 0.026992507339548902\n",
            "Probability of count 159 value 0.02522496246381851\n",
            "Probability of count 160 value 0.023398007461843125\n",
            "Probability of count 161 value 0.02154292247126259\n",
            "Probability of count 162 value 0.019689010842471114\n",
            "Probability of count 163 value 0.017862927916987986\n",
            "Probability of count 164 value 0.016088167862108146\n",
            "Probability of count 165 value 0.01438471479435533\n",
            "Probability of count 166 value 0.012768855620078179\n",
            "Probability of count 167 value 0.011253144333016678\n",
            "Probability of count 168 value 0.009846501291389803\n",
            "Probability of count 169 value 0.008554426461298077\n",
            "Probability of count 170 value 0.007379302826303039\n",
            "Probability of count 171 value 0.006320765062777716\n",
            "Probability of count 172 value 0.005376108998333647\n",
            "Probability of count 173 value 0.0045407190587762845\n",
            "Probability of count 174 value 0.003808493571610614\n",
            "Probability of count 175 value 0.0031722511161179708\n",
            "Probability of count 176 value 0.0026241047835535145\n",
            "Probability of count 177 value 0.0021557949567776427\n",
            "Probability of count 178 value 0.0017589748011514234\n",
            "Probability of count 179 value 0.001425445895379378\n",
            "Probability of count 180 value 0.001147344196182796\n",
            "Probability of count 181 value 0.0009172787528793464\n",
            "Probability of count 182 value 0.0007284272449335644\n",
            "Probability of count 183 value 0.0005745935258974662\n",
            "Probability of count 184 value 0.000450232970580146\n",
            "Probability of count 185 value 0.00035045160953265324\n",
            "Probability of count 186 value 0.0002709848783388206\n",
            "Probability of count 187 value 0.0002081613944332682\n",
            "Probability of count 188 value 0.00015885658354904773\n",
            "Probability of count 189 value 0.00012044028556660229\n",
            "Probability of count 190 value 9.072173832307552e-05\n",
            "Probability of count 191 value 6.789461783956838e-05\n",
            "Probability of count 192 value 5.048414138989691e-05\n",
            "Probability of count 193 value 3.729764057577411e-05\n",
            "Probability of count 194 value 2.7379499040009515e-05\n",
            "Probability of count 195 value 1.997092871153578e-05\n",
            "Probability of count 196 value 1.447472774260525e-05\n",
            "Probability of count 197 value 1.0424915889866226e-05\n",
            "Probability of count 198 value 7.4609692152966115e-06\n",
            "Probability of count 199 value 5.306264242389628e-06\n",
            "Probability of count 200 value 3.7502802866064965e-06\n",
            "Probability of count 201 value 2.634086241690274e-06\n",
            "Probability of count 202 value 1.838644356823329e-06\n",
            "Probability of count 203 value 1.2754895943886048e-06\n",
            "Probability of count 204 value 8.793816667195082e-07\n",
            "Probability of count 205 value 6.025720000362038e-07\n",
            "Probability of count 206 value 4.103752770092378e-07\n",
            "Probability of count 207 value 2.7778173055866785e-07\n",
            "Probability of count 208 value 1.868899143096996e-07\n",
            "Probability of count 209 value 1.249790139037024e-07\n",
            "Probability of count 210 value 8.307428571245951e-08\n",
            "Probability of count 211 value 5.488878091400426e-08\n",
            "Probability of count 212 value 3.604931865245304e-08\n",
            "Probability of count 213 value 2.3535097844353262e-08\n",
            "Probability of count 214 value 1.5273877408058727e-08\n",
            "Probability of count 215 value 9.85384485039727e-09\n",
            "Probability of count 216 value 6.319663568269658e-09\n",
            "Probability of count 217 value 4.029235216202082e-09\n",
            "Probability of count 218 value 2.5538784465350626e-09\n",
            "Probability of count 219 value 1.6092932676796252e-09\n",
            "Probability of count 220 value 1.0081749000463632e-09\n",
            "Probability of count 221 value 6.279290034891076e-10\n",
            "Probability of count 222 value 3.8883679945785087e-10\n",
            "Probability of count 223 value 2.393946425572787e-10\n",
            "Probability of count 224 value 1.4654120583010072e-10\n",
            "Probability of count 225 value 8.918900056796752e-11\n",
            "Probability of count 226 value 5.3973041728404455e-11\n",
            "Probability of count 227 value 3.247613446316335e-11\n",
            "Probability of count 228 value 1.9430380758534322e-11\n",
            "Probability of count 229 value 1.155940453037924e-11\n",
            "Probability of count 230 value 6.838082526538813e-12\n",
            "Probability of count 231 value 4.022401486199381e-12\n",
            "Probability of count 232 value 2.352860098544984e-12\n",
            "Probability of count 233 value 1.368591180774414e-12\n",
            "Probability of count 234 value 7.916360751539008e-13\n",
            "Probability of count 235 value 4.553641303388167e-13\n",
            "Probability of count 236 value 2.6048371862602983e-13\n",
            "Probability of count 237 value 1.4818284514540134e-13\n",
            "Probability of count 238 value 8.383354734004943e-14\n",
            "Probability of count 239 value 4.716797667224947e-14\n",
            "Probability of count 240 value 2.6393257534986507e-14\n",
            "Probability of count 241 value 1.468797343904646e-14\n",
            "Probability of count 242 value 8.129439844605046e-15\n",
            "Probability of count 243 value 4.475029340748786e-15\n",
            "Probability of count 244 value 2.450046198852498e-15\n",
            "Probability of count 245 value 1.3341428040810487e-15\n",
            "Probability of count 246 value 7.225809304743451e-16\n",
            "Probability of count 247 value 3.892541235372338e-16\n",
            "Probability of count 248 value 2.0856856382129973e-16\n",
            "Probability of count 249 value 1.111577321003704e-16\n"
          ]
        }
      ]
    },
    {
      "cell_type": "markdown",
      "source": [
        "# End"
      ],
      "metadata": {
        "id": "1rOnEIrnliTq"
      },
      "id": "1rOnEIrnliTq"
    }
  ],
  "metadata": {
    "kernelspec": {
      "display_name": "Python 3 (ipykernel)",
      "language": "python",
      "name": "python3"
    },
    "language_info": {
      "codemirror_mode": {
        "name": "ipython",
        "version": 3
      },
      "file_extension": ".py",
      "mimetype": "text/x-python",
      "name": "python",
      "nbconvert_exporter": "python",
      "pygments_lexer": "ipython3",
      "version": "3.9.7"
    },
    "colab": {
      "provenance": [],
      "include_colab_link": true
    }
  },
  "nbformat": 4,
  "nbformat_minor": 5
}